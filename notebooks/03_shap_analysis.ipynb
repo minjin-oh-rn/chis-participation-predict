{
 "cells": [
  {
   "cell_type": "markdown",
   "id": "fba04a67",
   "metadata": {},
   "source": [
    "#  03_shap_analysis.ipynb\n",
    "\n",
    "This notebook interprets the logistic regression model using SHAP values to explain key drivers of participation continuity."
   ]
  },
  {
   "cell_type": "code",
   "execution_count": null,
   "id": "e43e4ba1",
   "metadata": {},
   "outputs": [],
   "source": [
    "#  Import necessary libraries\n",
    "import pandas as pd\n",
    "import shap\n",
    "import matplotlib.pyplot as plt\n",
    "from sklearn.linear_model import LogisticRegression\n",
    "from sklearn.model_selection import train_test_split\n"
   ]
  },
  {
   "cell_type": "code",
   "execution_count": null,
   "id": "92ca4b4b",
   "metadata": {},
   "outputs": [],
   "source": [
    "#  Load data\n",
    "df = pd.read_csv('./data/chis_cleaned.csv')\n",
    "X = df[['access_score', 'trust_score', 'social_support', 'age', 'gender', 'income_level']]\n",
    "y = df['participation_binary']\n"
   ]
  },
  {
   "cell_type": "code",
   "execution_count": null,
   "id": "fcf7c8e5",
   "metadata": {},
   "outputs": [],
   "source": [
    "#  Fit logistic regression model\n",
    "model = LogisticRegression(max_iter=1000)\n",
    "model.fit(X, y)\n"
   ]
  },
  {
   "cell_type": "code",
   "execution_count": null,
   "id": "6a57e3a1",
   "metadata": {},
   "outputs": [],
   "source": [
    "#  Run SHAP analysis\n",
    "explainer = shap.Explainer(model, X)\n",
    "shap_values = explainer(X)\n"
   ]
  },
  {
   "cell_type": "code",
   "execution_count": null,
   "id": "fc3d3fcd",
   "metadata": {},
   "outputs": [],
   "source": [
    "#  SHAP summary plot\n",
    "shap.summary_plot(shap_values, X, show=True)\n",
    "plt.show()\n"
   ]
  },
  {
   "cell_type": "markdown",
   "id": "ffa8dc6a",
   "metadata": {},
   "source": [
    ">  This SHAP analysis highlights which variables had the strongest influence on predicted continuity. Results will be used in poster interpretation and policy discussion."
   ]
  }
 ],
 "metadata": {},
 "nbformat": 4,
 "nbformat_minor": 5
}

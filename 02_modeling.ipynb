{
 "cells": [
  {
   "cell_type": "markdown",
   "id": "a5628753",
   "metadata": {},
   "source": [
    "#  02_modeling.ipynb\n",
    "\n",
    "This notebook builds a predictive model for sustained participation in community health programs based on CHIS 2023 data."
   ]
  },
  {
   "cell_type": "code",
   "execution_count": null,
   "id": "7c2f29d6",
   "metadata": {},
   "outputs": [],
   "source": [
    "#  Import libraries\n",
    "import pandas as pd\n",
    "from sklearn.model_selection import train_test_split\n",
    "from sklearn.linear_model import LogisticRegression\n",
    "from sklearn.metrics import classification_report, confusion_matrix, roc_auc_score\n"
   ]
  },
  {
   "cell_type": "code",
   "execution_count": null,
   "id": "1dc039b7",
   "metadata": {},
   "outputs": [],
   "source": [
    "#  Load preprocessed data\n",
    "df = pd.read_csv('./data/chis_cleaned.csv')  # Make sure this file is cleaned and ready\n"
   ]
  },
  {
   "cell_type": "code",
   "execution_count": null,
   "id": "e8abe1e3",
   "metadata": {},
   "outputs": [],
   "source": [
    "#  Define target and features\n",
    "# Target: participation continuity (1 = ≥2 times, 0 = once or none)\n",
    "y = df['participation_binary']\n",
    "X = df[['access_score', 'trust_score', 'social_support', 'age', 'gender', 'income_level']]\n"
   ]
  },
  {
   "cell_type": "code",
   "execution_count": null,
   "id": "61e91f00",
   "metadata": {},
   "outputs": [],
   "source": [
    "# ️ Split data into train/test sets\n",
    "X_train, X_test, y_train, y_test = train_test_split(X, y, test_size=0.3, random_state=42)\n"
   ]
  },
  {
   "cell_type": "code",
   "execution_count": null,
   "id": "83b7a7e8",
   "metadata": {},
   "outputs": [],
   "source": [
    "#  Train logistic regression model\n",
    "model = LogisticRegression(max_iter=1000)\n",
    "model.fit(X_train, y_train)\n"
   ]
  },
  {
   "cell_type": "code",
   "execution_count": null,
   "id": "647a6e74",
   "metadata": {},
   "outputs": [],
   "source": [
    "#  Evaluate model performance\n",
    "y_pred = model.predict(X_test)\n",
    "print(confusion_matrix(y_test, y_pred))\n",
    "print(classification_report(y_test, y_pred))\n",
    "print(\"ROC AUC:\", roc_auc_score(y_test, y_pred))\n"
   ]
  },
  {
   "cell_type": "markdown",
   "id": "a751962e",
   "metadata": {},
   "source": [
    ">  Modeling complete. Proceed to `03_shap_analysis.ipynb` for interpretability using SHAP."
   ]
  }
 ],
 "metadata": {},
 "nbformat": 4,
 "nbformat_minor": 5
}

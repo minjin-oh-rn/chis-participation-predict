{
 "cells": [
  {
   "cell_type": "markdown",
   "id": "e145eeb1",
   "metadata": {},
   "source": [
    "#  01_preprocessing.ipynb\n",
    "\n",
    "This notebook performs initial data loading and preprocessing for the CHIS 2023 dataset, preparing it for modeling and analysis."
   ]
  },
  {
   "cell_type": "code",
   "execution_count": null,
   "id": "26d66327",
   "metadata": {},
   "outputs": [],
   "source": [
    "#  Import libraries\n",
    "import pandas as pd\n",
    "import numpy as np\n",
    "\n",
    "# Optional display settings\n",
    "pd.set_option('display.max_columns', 100)\n"
   ]
  },
  {
   "cell_type": "code",
   "execution_count": null,
   "id": "e9054ee3",
   "metadata": {},
   "outputs": [],
   "source": [
    "#  Load dataset (replace with actual file path)\n",
    "df = pd.read_csv('./data/chis_cleaned.csv')\n",
    "\n",
    "# Show shape and preview\n",
    "print(\"Shape of the dataset:\", df.shape)\n",
    "df.head()\n"
   ]
  },
  {
   "cell_type": "code",
   "execution_count": null,
   "id": "0bf02ef3",
   "metadata": {},
   "outputs": [],
   "source": [
    "#  Basic data cleaning\n",
    "# Drop missing values\n",
    "df = df.dropna()\n",
    "\n",
    "# Standardize column names\n",
    "df.columns = df.columns.str.lower().str.replace(\" \", \"_\")\n"
   ]
  },
  {
   "cell_type": "code",
   "execution_count": null,
   "id": "ecfd8919",
   "metadata": {},
   "outputs": [],
   "source": [
    "#  Example filter: include adults aged 60 and over\n",
    "df = df[df['age'] >= 60]\n"
   ]
  },
  {
   "cell_type": "code",
   "execution_count": null,
   "id": "3d57fb34",
   "metadata": {},
   "outputs": [],
   "source": [
    "#  Generate summary statistics\n",
    "df.describe(include='all')\n"
   ]
  },
  {
   "cell_type": "markdown",
   "id": "b4c949c9",
   "metadata": {},
   "source": [
    ">  This notebook completes the initial preprocessing step. Proceed to `02_modeling.ipynb` for model development."
   ]
  }
 ],
 "metadata": {},
 "nbformat": 4,
 "nbformat_minor": 5
}
